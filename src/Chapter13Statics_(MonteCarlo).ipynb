{
 "cells": [
  {
   "cell_type": "markdown",
   "metadata": {},
   "source": [
    "# Mô phỏng Monte Carlo \n",
    "- là một công cụ, bổ trợ cho chương 13. Phần này tự tìm hiểu, trong sách chỉ nói qua cách thực hành ở Chapter 12 (bạn có thể xem lại)"
   ]
  },
  {
   "cell_type": "markdown",
   "metadata": {},
   "source": [
    "## I, Mô phỏng Monte Carlo là gì? (What)\n",
    "\n",
    "- Mô phỏng Monte Carlo là một kỹ thuật tính toán học dự đoán kết quả có thể xảy ra của một sự kiện không chắc chắn. Các chương trình máy tính sử dụng phương pháp này để phân tích dữ liệu trong quá khứ và dự đoán một loạt các kết quả trong tương lại dựa trên một lựa chọn hành động \n",
    "- <b> <i> Ví dụ: </i> </b> Nếu bạn muốn ước tính doanh số bán hàng trong tháng đầu tiên của một sản phẩm <b> <i> mới </i> </b>, bạn có thể cung cấp cho chương trình mô phỏng Monte Carlo dữ liệu bán hàng lịch sử của bạn. Chương trình sẽ ước tính các giá trị bán hàng khác nhau dựa trên các yếu tố như điều kiện thị trường chung, giá sản phẩm và ngân sách quảng cáo.\n",
    "## II, Tại sao Monte Carlo quan trọng? (Why)\n",
    "- Mô phỏng Monte Carlo là một mô hình xác suất có thể bao gồm yếu tố không chắc chắn hoặc ngẫu nhiên trong dự đoán. Khi sử dụng mô hình xác suất để mô phỏng một kết quả, bạn sẽ thu được kết quả khác nhau sau mỗi lần mô phỏng. \n",
    "- <b> <i> Ví dụ: </i> </b> khoảng cách giữa nhà và văn phòng của bạn là cố định. Tuy nhiên, mô phỏng xác suất có thể dự đoán thời gian di chuyển khác nhau bằng cách xem xét các yếu tố như tắc nghẽn giao thông, thời tiết xấu và sự cố hỏng xe.  \n",
    "<br> </br>\n",
    "- <b> Ngược lại </b>, các phương pháp dự báo thông thường có tính tất định hơn. Chúng mang lại một câu trả lời rõ ràng cho dự đoán và không thể xem xét tới tính không chắc chắn. <b> <i> Ví dụ </i> </b>: chúng có thể cho bạn biết thời gian di chuyển tối thiểu và tối đa, nhưng cả hai câu trả lời đều kém chính xác hơn.\n",
    "\n",
    "### <b> Lợi ích của Monte Carlo </b>:\n",
    "- Mô phỏng Monte Carlo cung cấp <b> <i>nhiều kết quả có thể xảy ra</i></b> và <b> <i>xác suất của mỗi kết quả</i></b> từ một tập lớn các mẫu dữ liệu ngẫu nhiên. Phương pháp này cung cấp một kết quả rõ ràng hơn so với dự báo tất định. <b> <i>Ví dụ:</i> </b> hoạt động dự báo rủi ro tài chính đòi hỏi phân tích hàng chục hoặc hàng trăm yếu tố rủi ro. Các nhà phân tích tài chính sử dụng mô phỏng Monte Carlo để đưa ra xác suất của mọi kết quả có thể xảy ra. \n",
    "\n",
    "$=>$ <b> Điểm khác biệt chính của mô phỏng Monte Carlo là nó cho ra nhiều kết quả có thể xảy ra và xác suất của kết quả đó là bao nhiêu, khác với các mô hình dự đoán bình thường chỉ cho ra một output tất định.</b>"
   ]
  },
  {
   "cell_type": "markdown",
   "metadata": {},
   "source": [
    "## III, Cách hoạt động của Monte Carlo? (How)\n",
    "- Nguyên lý cơ bản của mô phỏng Monte Carlo nằm ở tính chất ergodic, trong đó mô tả hành vi thống kê của điểm chuyển động trong hệ thống theo đó. Điểm chuyển động sau cùng sẽ đi qua mọi vị trí có thể đi trong hệ thống ergodic. Điều này trở thành nền tảng của mô phỏng Monte Carlo, trong đó máy tính sẽ chạy đủ mô phỏng để cho ra kết quả cuối cùng của các đầu vào khác nhau. Định nghĩa này có vẻ hơi trừu tượng, hãy xem ví dụ sau để dễ hiểu hơn:\n",
    "\n",
    "- <b> <i> Ví dụ: </i> </b>  Một xúc xắc sáu mặt có 1/6 xác suất rơi vào một mặt cụ thể. Khi đổ xúc xắc sáu lần, bạn có thể sẽ không đổ ra sáu mặt khác nhau. Tuy nhiên, bạn sẽ thu được xác suất 1/6 theo lý thuyết cho từng mặt nếu tiếp tục đổ xúc xắc vô số lần. Độ chính xác của kết quả tỷ lệ thuận với số mô phỏng. Nói cách khác, <b>10.000 mô phỏng sẽ cho ra kết quả chính xác hơn 100 mô phỏng</b>. \n",
    "\n",
    "- Mô phỏng Monte Carlo cũng hoạt động theo cách này. Mô phỏng này sử dụng một hệ thống máy tính để chạy đủ các mô phỏng nhằm cho ra nhiều kết quả khác nhau mô phỏng kết quả thực tế. <b>Hệ thống sử dụng nhiều công cụ tạo số ngẫu nhiên để tái tạo lại tính không chắc chắn vốn có của các tham số đầu vào</b>. Công cụ tạo số ngẫu nhiên là các chương trình máy tính có khả năng tạo ra một dãy số ngẫu nhiên không thể đoán trước\n",
    "<br>\n",
    "### <b>Monte Carlo với ML </b>\n",
    "- Máy học (ML) là một công nghệ máy tính sử dụng <b>một mẫu lớn chứa dữ liệu đầu vào và đầu ra (I/O) để đào tạo nhằm giúp phần mềm hiểu được mối tương quan giữa hai loại dữ liệu<b>. Mặt khác, mô phỏng Monte Carlo sử dụng các mẫu dữ liệu đầu vào và mô hình toán học đã biết để <b>dự đoán những kết quả có thể xảy ra trong hệ thống<b>. <b>Bạn sử dụng mô hình ML để kiểm thử và xác nhận kết quả trong mô phỏng Monte Carlo. </b>\n",
    "</br>\n",
    "\n"
   ]
  },
  {
   "cell_type": "markdown",
   "metadata": {},
   "source": [
    "\n",
    "### Monte Carlo bao gồm những thành phần nào\n",
    "\n",
    "- Một phân tích Monte Carlo bao gồm các biến đầu vào, biến đầu ra và một mô hình toán học. Hệ thống máy tính đưa biến độc lập vào một mô hình toán học, mô phỏng chúng và tạo ra biến phụ thuộc\n",
    "<br></br>\n",
    "<br>\n",
    "-  <b>Biến đầu vào:</b>  là các giá trị ngẫu nhiên ảnh hưởng đến kết quả của mô phỏng Monte Carlo. <b> <i>Ví dụ:</i> </b> nhiệt độ và chất lượng sản xuất là các biến đầu vào ảnh hưởng đến độ bền của điện thoại thông minh. Bạn có thể biểu diễn biến đầu vào dưới dạng một loạt các mẫu giá trị ngẫu nhiên để phương pháp Monte Carlo có thể mô phỏng kết quả với giá trị đầu vào ngẫu nhiên.\n",
    "</br>\n",
    "<br>\n",
    "- <b> Biến đầu ra: </b> là kết quả của phân tích Monte Carlo.<b><i> Ví dụ:</i></b> tuổi thọ của một thiết bị điện tử là một biến đầu ra, mang giá trị là khoảng thời gian chẳng hạn như 6 tháng hoặc 2 năm. Phần mềm mô phỏng Monte Carlo biểu diễn <b> <i>biến đầu ra trên một biểu đồ tần suất hoặc đồ thị phân phối kết quả trong một khoảng liên tục trên trục hoành. </i></b>\n",
    "</br>\n",
    "<br>\n",
    "-  <b> Mô hình toán học:</b> là một phương trình mô tả mối quan hệ giữa các biến đầu ra và đầu vào dưới dạng toán học. <b> <i> Ví dụ:</i></b> mô hình toán học lợi nhuận là Lợi nhuận = Doanh thu − Chi phí. Phần mềm Monte Carlo thay thế doanh thu và chi phí bằng các giá trị có thể xuất hiện dựa trên loại phân phối xác suất. Sau đó, phần mềm này lặp lại mô phỏng để thu về kết quả có độ chính xác cao. Mô phỏng Monte Carlo có thể chạy hàng giờ đồng hồ khi mô hình toán học có nhiều biến ngẫu nhiên. \n",
    "</br>\n",
    "\n",
    "### Mô phỏng Monte Carlo có các hàm phân phối xác suất  nào?\n",
    "<br> \n",
    "\n",
    "- <b> Phân phối chuẩn</b>:\n",
    "    - Phân phối chuẩn, còn gọi là đường cong hình chuông, có dạng đối xứng giống như một chiếc chuông và đại diện cho hầu hết các sự kiện thực tế. Một giá trị ngẫu nhiên có khả năng cao là giá trị trung vị sẽ khiến xác suất bị giảm đáng kể về phía cả hai đầu của đường cong hình chuông. <b> <i>Ví dụ:</i></b> quá trình lấy mẫu ngẫu nhiên lặp lại về cân nặng của các học sinh trong một lớp học cụ thể sẽ cho bạn biểu đồ phân phối chuẩn.\n",
    "\n",
    "- <b> Phân phối đều:</b>\n",
    "    - Phân phối đều là một biểu diễn thống kê gồm các biến ngẫu nhiên có xác suất bằng nhau. Khi được biểu diễn bằng hình vẽ trên biểu đồ, các biến phân phối đều sẽ có dạng một đường phẳng nằm ngang trên khoảng hợp lệ. <b> <i>Ví dụ:</i></b> phân phối đều đại diện cho khả năng đổ xúc xắc và xác suất rơi vào từng mặt xúc xắc.\n",
    "\n",
    "- <b> Phân phối tam giác: </b>\n",
    "    - Phân phối tam giác sử dụng các giá trị tối thiểu, giá trị tối đa và giá trị có nhiều khả năng xuất hiện nhất để biểu diễn biến ngẫu nhiên. Xác suất của loại phân phối này đạt đỉnh ở giá trị có nhiều khả năng xuất hiện nhất. <b> <i>Ví dụ:</i></b> các công ty sử dụng hàm phân phối tam giác để dự đoán doanh số bán hàng sắp tới bằng cách thiết lập giá trị tối thiểu, giá trị tối đa và giá trị đỉnh của tam giác.\n",
    "### Các bước thực hiện mô phỏng\n",
    "<br>\n",
    "\n",
    "- <b> Thiết lập mô hình toán học: </b>Xác định một phương trình liên kết các biến đầu ra và đầu vào với nhau. Các mô hình toán học có thể là từ các công thức kinh doanh cơ bản cho đến các phương trình khoa học phức tạp. \n",
    "\n",
    "- <b> Xác định giá trị đầu vào: </b> Chọn từ các hàm phân phối xác suất khác nhau để biểu diễn các giá trị đầu vào.<b><i> Ví dụ:</i></b> nhiệt độ hoạt động của điện thoại di động có thể trông như một đường cong hình chuông do thiết bị này hầu hết thời gian đều chạy ở mức nhiệt độ phòng.\n",
    "\n",
    "- <b>Tạo một tập dữ liệu mẫu: </b> Tạo một tập dữ liệu lớn chứa nhiều mẫu ngẫu nhiên dựa trên hàm phân phối xác suất đã chọn. Kích thước mẫu phải nằm trong khoảng 100.000 để có thể cho ra kết quả chính xác. \n",
    "\n",
    "- <b>Thiết lập phần mềm mô phỏng Monte Carlo:</b> Sử dụng các mẫu đầu vào và mô hình toán học để cấu hình và chạy phần mềm mô phỏng Monte Carlo. Thời gian cho ra kết quả có thể khác nhau tùy thuộc vào số lượng biến đầu vào và có khả năng bạn sẽ phải chờ để nhận kết quả.\n",
    "- <b>Phân tích kết quả </b> Kiểm tra các kết quả mô phỏng để tìm cách phân bố chuẩn đầu ra trên biểu đồ tần suất. Sử dụng công cụ thống kê để tính toascn các tham số, chẳng hạn như giá trị trung bình, độ lệch chuẩn và biến để xác định xem kết quả có như mong đợi hay không.\n",
    "\n",
    "### Các thách thức\n",
    "- Phụ thuộc rất nhiều vào các giá trị đầu vào và hàm phân phối, Nếu chọn hàm phân phối và đầu vào xảy ra sai sót thì có thể cho ra kết quả không chính xác\n",
    "- Tốn nhiều tài nguyên để tính toán, có thể vài giờ, thậm chí vài ngày"
   ]
  }
 ],
 "metadata": {
  "language_info": {
   "name": "python"
  }
 },
 "nbformat": 4,
 "nbformat_minor": 2
}
