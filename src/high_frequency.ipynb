{
 "cells": [
  {
   "cell_type": "code",
   "execution_count": 16,
   "metadata": {},
   "outputs": [],
   "source": [
    "import pandas as pd\n",
    "data = pd.read_csv('/root/quoc/FinanceLearn/data/fxcm_eur_usd_tick_data.csv',index_col=False)\n",
    "# data.set_index('Unnamed: 0',inplace=True)\n"
   ]
  },
  {
   "cell_type": "code",
   "execution_count": 18,
   "metadata": {},
   "outputs": [
    {
     "data": {
      "text/html": [
       "<div>\n",
       "<style scoped>\n",
       "    .dataframe tbody tr th:only-of-type {\n",
       "        vertical-align: middle;\n",
       "    }\n",
       "\n",
       "    .dataframe tbody tr th {\n",
       "        vertical-align: top;\n",
       "    }\n",
       "\n",
       "    .dataframe thead th {\n",
       "        text-align: right;\n",
       "    }\n",
       "</style>\n",
       "<table border=\"1\" class=\"dataframe\">\n",
       "  <thead>\n",
       "    <tr style=\"text-align: right;\">\n",
       "      <th></th>\n",
       "      <th>Bid</th>\n",
       "      <th>Ask</th>\n",
       "      <th>Mid</th>\n",
       "    </tr>\n",
       "    <tr>\n",
       "      <th>Date</th>\n",
       "      <th></th>\n",
       "      <th></th>\n",
       "      <th></th>\n",
       "    </tr>\n",
       "  </thead>\n",
       "  <tbody>\n",
       "    <tr>\n",
       "      <th>2018-06-29 00:05:00</th>\n",
       "      <td>1.15649</td>\n",
       "      <td>1.15651</td>\n",
       "      <td>1.156500</td>\n",
       "    </tr>\n",
       "    <tr>\n",
       "      <th>2018-06-29 00:10:00</th>\n",
       "      <td>1.15671</td>\n",
       "      <td>1.15672</td>\n",
       "      <td>1.156715</td>\n",
       "    </tr>\n",
       "    <tr>\n",
       "      <th>2018-06-29 00:15:00</th>\n",
       "      <td>1.15725</td>\n",
       "      <td>1.15727</td>\n",
       "      <td>1.157260</td>\n",
       "    </tr>\n",
       "    <tr>\n",
       "      <th>2018-06-29 00:20:00</th>\n",
       "      <td>1.15720</td>\n",
       "      <td>1.15722</td>\n",
       "      <td>1.157210</td>\n",
       "    </tr>\n",
       "    <tr>\n",
       "      <th>2018-06-29 00:25:00</th>\n",
       "      <td>1.15711</td>\n",
       "      <td>1.15712</td>\n",
       "      <td>1.157115</td>\n",
       "    </tr>\n",
       "  </tbody>\n",
       "</table>\n",
       "</div>"
      ],
      "text/plain": [
       "                         Bid      Ask       Mid\n",
       "Date                                           \n",
       "2018-06-29 00:05:00  1.15649  1.15651  1.156500\n",
       "2018-06-29 00:10:00  1.15671  1.15672  1.156715\n",
       "2018-06-29 00:15:00  1.15725  1.15727  1.157260\n",
       "2018-06-29 00:20:00  1.15720  1.15722  1.157210\n",
       "2018-06-29 00:25:00  1.15711  1.15712  1.157115"
      ]
     },
     "execution_count": 18,
     "metadata": {},
     "output_type": "execute_result"
    }
   ],
   "source": [
    "data['Mid'] = data.mean(axis=1)\n",
    "data['Date'] = pd.to_datetime(data['Unnamed: 0'])\n",
    "data = data.drop(columns=['Unnamed: 0'])\n",
    "data.set_index('Date',inplace=True)\n",
    "tick_resam = data.resample(rule='5min', label='right').last()\n",
    "tick_resam.head()"
   ]
  }
 ],
 "metadata": {
  "kernelspec": {
   "display_name": "env",
   "language": "python",
   "name": "python3"
  },
  "language_info": {
   "codemirror_mode": {
    "name": "ipython",
    "version": 3
   },
   "file_extension": ".py",
   "mimetype": "text/x-python",
   "name": "python",
   "nbconvert_exporter": "python",
   "pygments_lexer": "ipython3",
   "version": "3.8.10"
  }
 },
 "nbformat": 4,
 "nbformat_minor": 2
}
