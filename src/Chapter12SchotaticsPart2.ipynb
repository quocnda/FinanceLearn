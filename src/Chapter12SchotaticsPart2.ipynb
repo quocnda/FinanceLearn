{
 "cells": [
  {
   "cell_type": "code",
   "execution_count": 3,
   "metadata": {},
   "outputs": [
    {
     "data": {
      "text/plain": [
       "np.float64(9.985564665036)"
      ]
     },
     "execution_count": 3,
     "metadata": {},
     "output_type": "execute_result"
    }
   ],
   "source": [
    "import numpy.random as npr\n",
    "import numpy as np\n",
    "import math\n",
    "def gen_sn(M, I, anti_paths=True, mo_match=True):\n",
    "    ''' Function to generate random numbers for simulation.\n",
    "    Parameters\n",
    "    ==========\n",
    "    M: int\n",
    "    number of time intervals for discretization\n",
    "    I: int\n",
    "    number of paths to be simulated\n",
    "    anti_paths: boolean\n",
    "    use of antithetic variates\n",
    "    mo_math: boolean\n",
    "    use of moment matching\n",
    "    '''\n",
    "    if anti_paths is True:\n",
    "        sn = npr.standard_normal((M + 1, int(I / 2)))\n",
    "        sn = np.concatenate((sn, -sn), axis=1)\n",
    "    else:\n",
    "        sn = npr.standard_normal((M + 1, I))\n",
    "    if mo_match is True:\n",
    "        sn = (sn - sn.mean()) / sn.std()\n",
    "    return sn\n",
    "# ----------Tđịnh giá quyền chọn mua châu Âu (European call option) theo mô hình Black-Scholes-Merton (BSM) bằng cách sử dụng mô phỏng Monte Carlo.---\n",
    "S0 = 100.\n",
    "r = 0.05\n",
    "sigma = 0.25\n",
    "T = 1.0\n",
    "I = 50000\n",
    "\n",
    "def gbm_mcs_stat(K):\n",
    "    ''' Valuation of European call option in Black-Scholes-Merton\n",
    "    by Monte Carlo simulation (of index level at maturity)\n",
    "    Parameters\n",
    "    ==========\n",
    "    K: float\n",
    "    (positive) strike price of the option\n",
    "    Return=======\n",
    "    C0: float\n",
    "    estimated present value of European call option\n",
    "    '''\n",
    "    sn = gen_sn(1, I)\n",
    "    # simulate index level at maturity\n",
    "    ST = S0 * np.exp((r - 0.5 * sigma ** 2) * T\n",
    "    + sigma * math.sqrt(T) * sn[1])\n",
    "    # calculate payoff at maturity\n",
    "    hT = np.maximum(ST - K, 0)\n",
    "    # calculate MCS estimator\n",
    "    C0 = math.exp(-r * T) * np.mean(hT)\n",
    "    return C0\n",
    "ans = gbm_mcs_stat(105)\n",
    "# Giá trị hiện tại ước tính của quyền chọn mua châu Âu: Kết quả của hàm gbm_mcs_stat là khoảng 10.04, \n",
    "# có nghĩa là giá trị hiện tại của quyền chọn mua châu Âu với giá thực hiện là 105 (K = 105) được ước tính là khoảng 10.04 đơn vị tiền tệ.\n"
   ]
  },
  {
   "cell_type": "code",
   "execution_count": 4,
   "metadata": {},
   "outputs": [
    {
     "name": "stdout",
     "output_type": "stream",
     "text": [
      "8.043782605986976\n",
      "12.660707834952833\n"
     ]
    }
   ],
   "source": [
    "# Mở rộng phương pháp định giá quyền chọn bằng Monte Carlo mô phỏng cho cả quyền chọn mua (call option) và quyền chọn bán (put option) của châu Âu. \n",
    "# Hàm gbm_mcs_dyna được sử dụng để mô phỏng các đường đi của giá \n",
    "# cổ phiếu theo thời gian và tính toán giá trị hiện tại của quyền chọn mua hoặc bán.\n",
    "M = 50 \n",
    "def gbm_mcs_dyna(K, option='call'):\n",
    "    ''' Valuation of European options in Black-Scholes-Merton\n",
    "    by Monte Carlo simulation (of index level paths)\n",
    "    Parameters\n",
    "    ==========\n",
    "    K: float\n",
    "    (positive) strike price of the option\n",
    "    option : string\n",
    "    type of the option to be valued ('call', 'put')\n",
    "    Returns\n",
    "    =======\n",
    "    C0: float\n",
    "    estimated present value of European call option\n",
    "    '''\n",
    "    dt = T / M\n",
    "    # simulation of index level paths\n",
    "    S = np.zeros((M + 1, I))\n",
    "    S[0] = S0\n",
    "    sn = gen_sn(M, I)\n",
    "    for t in range(1, M + 1):\n",
    "        S[t] = S[t - 1] * np.exp((r - 0.5 * sigma ** 2) * dt\n",
    "        + sigma * math.sqrt(dt) * sn[t])\n",
    "        # case-based calculation of payoff\n",
    "    if option == 'call':\n",
    "        hT = np.maximum(S[-1] - K, 0)\n",
    "    else:\n",
    "        hT = np.maximum(K - S[-1], 0)\n",
    "    # calculation of MCS estimator\n",
    "    C0 = math.exp(-r * T) * np.mean(hT)\n",
    "    return C0\n",
    "a = gbm_mcs_dyna(K=110., option='call') \n",
    "b = gbm_mcs_dyna(K=110., option='put') \n",
    "print(a)\n",
    "print(b)\n",
    "# Quyền chọn mua (Call Option): Quyền mua cổ phiếu với giá thực hiện trong tương lai. Bạn mua quyền chọn này nếu dự đoán giá cổ phiếu sẽ tăng.\n",
    "# Quyền chọn bán (Put Option): Quyền bán cổ phiếu với giá thực hiện trong tương lai. Bạn mua quyền chọn này nếu dự đoán giá cổ phiếu sẽ giảm."
   ]
  },
  {
   "cell_type": "markdown",
   "metadata": {},
   "source": [
    "Chú ý :\n",
    "Công Thức Black-Scholes-Merton (BSM):\n",
    "    Công thức Black-Scholes-Merton (BSM) cung cấp một giải pháp chính xác và phân tích cho việc định giá quyền chọn châu Âu. Nó dựa trên một số giả định:\n",
    "\n",
    "        Chuyển động Brown Hình học: Giá tài sản cơ sở theo một quá trình ngẫu nhiên với biến động đồng đều.\n",
    "        Thị trường hoàn hảo: Không có chi phí giao dịch, và các tài sản có thể được mua hoặc bán mà không có ảnh hưởng đến giá.\n",
    "        Lãi suất không rủi ro: Được giả định là không thay đổi theo thời gian.\n",
    "        Độ biến động ổn định: Được giả định là không thay đổi theo thời gian.\n",
    "Phương Pháp Mô Phỏng Monte Carlo\n",
    "    Phương pháp mô phỏng Monte Carlo là một kỹ thuật dựa trên việc mô phỏng nhiều kịch bản ngẫu nhiên để ước lượng giá trị của quyền chọn. Nó không yêu cầu các giả định như công thức BSM, và do đó có thể được áp dụng cho các quyền chọn phức tạp hơn, chẳng hạn như quyền chọn kiểu Mỹ hoặc các quyền chọn có đặc điểm đặc biệt.\n",
    "\n",
    "    Quy Trình Mô Phỏng Monte Carlo:\n",
    "    Tạo các số ngẫu nhiên: Sinh ra các chuỗi số ngẫu nhiên để mô phỏng các kịch bản của giá tài sản cơ sở trong tương lai.\n",
    "    Mô phỏng các đường đi của giá: Sử dụng các số ngẫu nhiên để tạo ra nhiều đường đi khác nhau của giá cổ phiếu.\n",
    "    Tính toán giá trị quyền chọn: Đối với mỗi kịch bản, tính giá trị quyền chọn tại ngày đáo hạn.\n",
    "    Tính giá trị kỳ vọng: Tính giá trị trung bình của các giá trị quyền chọn từ tất cả các kịch bản và chiết khấu về hiện tại để có được giá trị quyền chọn ước lượng.\n",
    "\n",
    "So Sánh\n",
    "-Công Thức BSM:\n",
    "\n",
    "    Ưu điểm: Chính xác và nhanh chóng nếu các giả định của mô hình được thoả mãn.\n",
    "    Nhược điểm: Chỉ áp dụng cho quyền chọn châu Âu và không thể xử lý các tình huống phức tạp như quyền chọn kiểu Mỹ hay các quyền chọn có đặc điểm đặc biệt.\n",
    "-Phương Pháp Mô Phỏng Monte Carlo:\n",
    "\n",
    "    Ưu điểm: Linh hoạt và có thể xử lý các quyền chọn phức tạp và điều kiện không tiêu chuẩn.\n",
    "    Nhược điểm: Có thể yêu cầu tính toán lớn và thời gian chạy lâu hơn, đặc biệt là khi số lượng mô phỏng cần thiết cao.\n",
    "Kết Luận\n",
    "Công thức BSM cung cấp một cách nhanh chóng và chính xác để định giá quyền chọn châu Âu khi các giả định của mô hình được thoả mãn.\n",
    "Phương pháp mô phỏng Monte Carlo cung cấp sự linh hoạt trong việc định giá các quyền chọn phức tạp và không yêu cầu các giả định mạnh mẽ như công thức BSM."
   ]
  }
 ],
 "metadata": {
  "kernelspec": {
   "display_name": ".venv",
   "language": "python",
   "name": "python3"
  },
  "language_info": {
   "codemirror_mode": {
    "name": "ipython",
    "version": 3
   },
   "file_extension": ".py",
   "mimetype": "text/x-python",
   "name": "python",
   "nbconvert_exporter": "python",
   "pygments_lexer": "ipython3",
   "version": "3.10.14"
  }
 },
 "nbformat": 4,
 "nbformat_minor": 2
}
